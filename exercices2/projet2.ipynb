{
 "cells": [
  {
   "cell_type": "markdown",
   "source": [
    "\n",
    "# Projet 2"
   ],
   "metadata": {}
  },
  {
   "cell_type": "code",
   "execution_count": 1,
   "source": [
    "# import des modules usuels\r\n",
    "import numpy as np\r\n",
    "import pandas as pd\r\n",
    "\r\n",
    "# options d'affichage\r\n",
    "pd.set_option(\"display.min_rows\", 16)"
   ],
   "outputs": [],
   "metadata": {
    "scrolled": false
   }
  },
  {
   "cell_type": "code",
   "execution_count": 2,
   "source": [
    "# chargement et traitement des données\r\n",
    "geo = pd.read_csv(\"correspondance-code-insee-code-postal.csv\",\r\n",
    "                   sep=';',\r\n",
    "                   usecols=range(11),\r\n",
    "                   index_col=\"Code INSEE\")\r\n",
    "geo = geo.sort_index()\r\n",
    "geo[['Latitude', 'Longitude']] = geo[\"geo_point_2d\"].str.extract(\"(.*), (.*)\").astype(float)\r\n",
    "geo.head()"
   ],
   "outputs": [
    {
     "output_type": "execute_result",
     "data": {
      "text/html": [
       "<div>\n",
       "<style scoped>\n",
       "    .dataframe tbody tr th:only-of-type {\n",
       "        vertical-align: middle;\n",
       "    }\n",
       "\n",
       "    .dataframe tbody tr th {\n",
       "        vertical-align: top;\n",
       "    }\n",
       "\n",
       "    .dataframe thead th {\n",
       "        text-align: right;\n",
       "    }\n",
       "</style>\n",
       "<table border=\"1\" class=\"dataframe\">\n",
       "  <thead>\n",
       "    <tr style=\"text-align: right;\">\n",
       "      <th></th>\n",
       "      <th>Code Postal</th>\n",
       "      <th>Commune</th>\n",
       "      <th>Département</th>\n",
       "      <th>Région</th>\n",
       "      <th>Statut</th>\n",
       "      <th>Altitude Moyenne</th>\n",
       "      <th>Superficie</th>\n",
       "      <th>Population</th>\n",
       "      <th>geo_point_2d</th>\n",
       "      <th>geo_shape</th>\n",
       "      <th>Latitude</th>\n",
       "      <th>Longitude</th>\n",
       "    </tr>\n",
       "    <tr>\n",
       "      <th>Code INSEE</th>\n",
       "      <th></th>\n",
       "      <th></th>\n",
       "      <th></th>\n",
       "      <th></th>\n",
       "      <th></th>\n",
       "      <th></th>\n",
       "      <th></th>\n",
       "      <th></th>\n",
       "      <th></th>\n",
       "      <th></th>\n",
       "      <th></th>\n",
       "      <th></th>\n",
       "    </tr>\n",
       "  </thead>\n",
       "  <tbody>\n",
       "    <tr>\n",
       "      <th>01001</th>\n",
       "      <td>01400</td>\n",
       "      <td>L'ABERGEMENT-CLEMENCIAT</td>\n",
       "      <td>AIN</td>\n",
       "      <td>RHONE-ALPES</td>\n",
       "      <td>Commune simple</td>\n",
       "      <td>242.0</td>\n",
       "      <td>1565.0</td>\n",
       "      <td>0.8</td>\n",
       "      <td>46.1534255214, 4.92611354223</td>\n",
       "      <td>{\"type\": \"Polygon\", \"coordinates\": [[[4.926273...</td>\n",
       "      <td>46.153426</td>\n",
       "      <td>4.926114</td>\n",
       "    </tr>\n",
       "    <tr>\n",
       "      <th>01002</th>\n",
       "      <td>01640</td>\n",
       "      <td>L'ABERGEMENT-DE-VAREY</td>\n",
       "      <td>AIN</td>\n",
       "      <td>RHONE-ALPES</td>\n",
       "      <td>Commune simple</td>\n",
       "      <td>483.0</td>\n",
       "      <td>912.0</td>\n",
       "      <td>0.2</td>\n",
       "      <td>46.0091878776, 5.42801696363</td>\n",
       "      <td>{\"type\": \"Polygon\", \"coordinates\": [[[5.430089...</td>\n",
       "      <td>46.009188</td>\n",
       "      <td>5.428017</td>\n",
       "    </tr>\n",
       "    <tr>\n",
       "      <th>01004</th>\n",
       "      <td>01500</td>\n",
       "      <td>AMBERIEU-EN-BUGEY</td>\n",
       "      <td>AIN</td>\n",
       "      <td>RHONE-ALPES</td>\n",
       "      <td>Chef-lieu canton</td>\n",
       "      <td>379.0</td>\n",
       "      <td>2448.0</td>\n",
       "      <td>13.4</td>\n",
       "      <td>45.9608475114, 5.3729257777</td>\n",
       "      <td>{\"type\": \"Polygon\", \"coordinates\": [[[5.386190...</td>\n",
       "      <td>45.960848</td>\n",
       "      <td>5.372926</td>\n",
       "    </tr>\n",
       "    <tr>\n",
       "      <th>01005</th>\n",
       "      <td>01330</td>\n",
       "      <td>AMBERIEUX-EN-DOMBES</td>\n",
       "      <td>AIN</td>\n",
       "      <td>RHONE-ALPES</td>\n",
       "      <td>Commune simple</td>\n",
       "      <td>290.0</td>\n",
       "      <td>1605.0</td>\n",
       "      <td>1.6</td>\n",
       "      <td>45.9961799872, 4.91227250796</td>\n",
       "      <td>{\"type\": \"Polygon\", \"coordinates\": [[[4.895580...</td>\n",
       "      <td>45.996180</td>\n",
       "      <td>4.912273</td>\n",
       "    </tr>\n",
       "    <tr>\n",
       "      <th>01006</th>\n",
       "      <td>01300</td>\n",
       "      <td>AMBLEON</td>\n",
       "      <td>AIN</td>\n",
       "      <td>RHONE-ALPES</td>\n",
       "      <td>Commune simple</td>\n",
       "      <td>589.0</td>\n",
       "      <td>602.0</td>\n",
       "      <td>0.1</td>\n",
       "      <td>45.7494989044, 5.59432017366</td>\n",
       "      <td>{\"type\": \"Polygon\", \"coordinates\": [[[5.614854...</td>\n",
       "      <td>45.749499</td>\n",
       "      <td>5.594320</td>\n",
       "    </tr>\n",
       "  </tbody>\n",
       "</table>\n",
       "</div>"
      ],
      "text/plain": [
       "           Code Postal                  Commune Département       Région  \\\n",
       "Code INSEE                                                                 \n",
       "01001            01400  L'ABERGEMENT-CLEMENCIAT         AIN  RHONE-ALPES   \n",
       "01002            01640    L'ABERGEMENT-DE-VAREY         AIN  RHONE-ALPES   \n",
       "01004            01500        AMBERIEU-EN-BUGEY         AIN  RHONE-ALPES   \n",
       "01005            01330      AMBERIEUX-EN-DOMBES         AIN  RHONE-ALPES   \n",
       "01006            01300                  AMBLEON         AIN  RHONE-ALPES   \n",
       "\n",
       "                      Statut  Altitude Moyenne  Superficie  Population  \\\n",
       "Code INSEE                                                               \n",
       "01001         Commune simple             242.0      1565.0         0.8   \n",
       "01002         Commune simple             483.0       912.0         0.2   \n",
       "01004       Chef-lieu canton             379.0      2448.0        13.4   \n",
       "01005         Commune simple             290.0      1605.0         1.6   \n",
       "01006         Commune simple             589.0       602.0         0.1   \n",
       "\n",
       "                            geo_point_2d  \\\n",
       "Code INSEE                                 \n",
       "01001       46.1534255214, 4.92611354223   \n",
       "01002       46.0091878776, 5.42801696363   \n",
       "01004        45.9608475114, 5.3729257777   \n",
       "01005       45.9961799872, 4.91227250796   \n",
       "01006       45.7494989044, 5.59432017366   \n",
       "\n",
       "                                                    geo_shape   Latitude  \\\n",
       "Code INSEE                                                                 \n",
       "01001       {\"type\": \"Polygon\", \"coordinates\": [[[4.926273...  46.153426   \n",
       "01002       {\"type\": \"Polygon\", \"coordinates\": [[[5.430089...  46.009188   \n",
       "01004       {\"type\": \"Polygon\", \"coordinates\": [[[5.386190...  45.960848   \n",
       "01005       {\"type\": \"Polygon\", \"coordinates\": [[[4.895580...  45.996180   \n",
       "01006       {\"type\": \"Polygon\", \"coordinates\": [[[5.614854...  45.749499   \n",
       "\n",
       "            Longitude  \n",
       "Code INSEE             \n",
       "01001        4.926114  \n",
       "01002        5.428017  \n",
       "01004        5.372926  \n",
       "01005        4.912273  \n",
       "01006        5.594320  "
      ]
     },
     "metadata": {},
     "execution_count": 2
    }
   ],
   "metadata": {
    "scrolled": true
   }
  },
  {
   "cell_type": "markdown",
   "source": [
    "**Projet maison n° 1**\n",
    "\n",
    "- Ajoutez une colonne 'CP Ville' avec le Code postal + un espace + et le nom de la Ville.\n",
    "- Ecrivez une fonction qui détermine la commune la plus proche d'un point à partir de sa latitude et sa longitude.\n",
    "- Ajoutez une fonction de conversion pour pouvoir utiliser la première fonction avec un GPS (degrés, minutes, secondes)."
   ],
   "metadata": {}
  },
  {
   "cell_type": "code",
   "execution_count": 3,
   "source": [
    "# Ajout d'une colonne 'CP Ville'\r\n",
    "geo['CP Ville'] = geo['Code Postal'] + ' ' + geo['Commune']\r\n",
    "\r\n",
    "geo['CP Ville'] "
   ],
   "outputs": [
    {
     "output_type": "execute_result",
     "data": {
      "text/plain": [
       "Code INSEE\n",
       "01001    01400 L'ABERGEMENT-CLEMENCIAT\n",
       "01002      01640 L'ABERGEMENT-DE-VAREY\n",
       "01004          01500 AMBERIEU-EN-BUGEY\n",
       "01005        01330 AMBERIEUX-EN-DOMBES\n",
       "01006                    01300 AMBLEON\n",
       "01007                   01500 AMBRONAY\n",
       "01008                   01500 AMBUTRIX\n",
       "01009           01300 ANDERT-ET-CONDON\n",
       "                     ...              \n",
       "97610                    97600 KOUNGOU\n",
       "97611                  97600 MAMOUDZOU\n",
       "97612                  97630 MTSAMBORO\n",
       "97613              97650 M'TSANGAMOUJI\n",
       "97614                   97670 OUANGANI\n",
       "97615                   97610 PAMANDZI\n",
       "97616                       97640 SADA\n",
       "97617                   97680 TSINGONI\n",
       "Name: CP Ville, Length: 36742, dtype: object"
      ]
     },
     "metadata": {},
     "execution_count": 3
    }
   ],
   "metadata": {}
  },
  {
   "cell_type": "code",
   "execution_count": 4,
   "source": [
    "# fonction recherche de ville\r\n",
    "def ville(lat, long):\r\n",
    "    dist = (geo['Longitude'] - long)**2 + (geo['Latitude'] - lat)**2\r\n",
    "    return geo.loc[dist.idxmin()]"
   ],
   "outputs": [],
   "metadata": {
    "scrolled": false
   }
  },
  {
   "cell_type": "code",
   "execution_count": 5,
   "source": [
    "ville(46, 5)"
   ],
   "outputs": [
    {
     "output_type": "execute_result",
     "data": {
      "text/plain": [
       "Code Postal                                                     01330\n",
       "Commune                                                    LAPEYROUSE\n",
       "Département                                                       AIN\n",
       "Région                                                    RHONE-ALPES\n",
       "Statut                                                 Commune simple\n",
       "Altitude Moyenne                                                284.0\n",
       "Superficie                                                     2013.0\n",
       "Population                                                        0.3\n",
       "geo_point_2d                             45.9859131165, 4.98196682865\n",
       "geo_shape           {\"type\": \"Polygon\", \"coordinates\": [[[5.003545...\n",
       "Latitude                                                    45.985913\n",
       "Longitude                                                    4.981967\n",
       "CP Ville                                             01330 LAPEYROUSE\n",
       "Name: 01207, dtype: object"
      ]
     },
     "metadata": {},
     "execution_count": 5
    }
   ],
   "metadata": {}
  },
  {
   "cell_type": "code",
   "execution_count": 6,
   "source": [
    "# conversion degrés, minutes, secondes => décimal\r\n",
    "def dms2dec(deg, mn, sec):\r\n",
    "    return deg + mn / 60 + sec / 3600"
   ],
   "outputs": [],
   "metadata": {
    "scrolled": false
   }
  },
  {
   "cell_type": "code",
   "execution_count": 7,
   "source": [
    "# on applique la fonction à une coordonnée tirée au hasard\r\n",
    "# init du random\r\n",
    "np.random.seed(0)\r\n",
    "\r\n",
    "a, b = 41.5, 51.1  # latitude min et max de la France métropolitaine\r\n",
    "lat = (b - a) * np.random.random() + a\r\n",
    "a, b = -5.1, 9.5  # longitude min et max de la France métropolitaine\r\n",
    "long = (b - a) * np.random.random() + a\r\n",
    "\r\n",
    "ville(lat, long)"
   ],
   "outputs": [
    {
     "output_type": "execute_result",
     "data": {
      "text/plain": [
       "Code Postal                                                     71330\n",
       "Commune                                                       BOSJEAN\n",
       "Département                                            SAONE-ET-LOIRE\n",
       "Région                                                      BOURGOGNE\n",
       "Statut                                                 Commune simple\n",
       "Altitude Moyenne                                                202.0\n",
       "Superficie                                                     1862.0\n",
       "Population                                                        0.3\n",
       "geo_point_2d                             46.7696786287, 5.34727924927\n",
       "geo_shape           {\"type\": \"Polygon\", \"coordinates\": [[[5.345021...\n",
       "Latitude                                                    46.769679\n",
       "Longitude                                                    5.347279\n",
       "CP Ville                                                71330 BOSJEAN\n",
       "Name: 71044, dtype: object"
      ]
     },
     "metadata": {},
     "execution_count": 7
    }
   ],
   "metadata": {
    "scrolled": false
   }
  },
  {
   "cell_type": "code",
   "execution_count": 8,
   "source": [
    "# à partir de coordonnées GPS précises\r\n",
    "ville(dms2dec(48, 42, 52), dms2dec(2, 14, 45))"
   ],
   "outputs": [
    {
     "output_type": "execute_result",
     "data": {
      "text/plain": [
       "Code Postal                                                     91120\n",
       "Commune                                                     PALAISEAU\n",
       "Département                                                   ESSONNE\n",
       "Région                                                  ILE-DE-FRANCE\n",
       "Statut                                                Sous-préfecture\n",
       "Altitude Moyenne                                                118.0\n",
       "Superficie                                                     1168.0\n",
       "Population                                                       30.3\n",
       "geo_point_2d                             48.7146765876, 2.22881488083\n",
       "geo_shape           {\"type\": \"Polygon\", \"coordinates\": [[[2.259350...\n",
       "Latitude                                                    48.714677\n",
       "Longitude                                                    2.228815\n",
       "CP Ville                                              91120 PALAISEAU\n",
       "Name: 91477, dtype: object"
      ]
     },
     "metadata": {},
     "execution_count": 8
    }
   ],
   "metadata": {
    "scrolled": false
   }
  },
  {
   "cell_type": "markdown",
   "source": [
    "**Projet maison n° 2**\r\n",
    "\r\n",
    "La colonne \"geo_shape\" comporte des chaines de catactères au format JSON. Elles représentent les formes géométriques des communes qui sont soit des polygones soit composées de plusieurs polygones.\r\n",
    "\r\n",
    "- Utiliser la librairie Python json pour parser la colonne \"geo_shape\".\r\n",
    "- Donner le décompte des valeurs accédées avec la clé \"type\".\r\n",
    "- Donner le décompte des longueurs des listes accédées avec la clé \"coordinates\".\r\n",
    "- Quelle commune est la plus complexe géométriquement ?\r\n",
    "- Quelle commune est la seconde la plus complexe géométriquement ?\r\n",
    "- Quelles sont les villes qui sont de type \"Polygon\" mais dont la longueur des listes accédées avec la clé \"coordinates\" vaut 2 ?\r\n",
    "- Pour ces villes vérifier que le premier polygone contient bien le second (enclave). NB : installer la librairie shapely, utiliser la classe Polygon de shapely.geometry. Sur Windows shapely peut nécessiter d'installer la dll \"geos_c.dll\" dans le répertoire \"Library/bin\" de votre environnement Python."
   ],
   "metadata": {}
  },
  {
   "cell_type": "code",
   "execution_count": 22,
   "source": [
    "# Utiliser la librairie Python json pour parser la colonne \"geo_shape\".\r\n",
    "import json\r\n",
    "\r\n",
    "#d = geo['geo_shape'].apply(lambda x: json.loads(x))\r\n",
    "geo_shape = pd.DataFrame(index= geo['geo_shape'].index, data={'type':  geo['geo_shape'].apply(lambda x: json.loads(x)['type']),\r\n",
    "                                                              'coordinates': geo['geo_shape'].apply(lambda x: json.loads(x)['coordinates'])\r\n",
    "                                                              }\r\n",
    "                        )\r\n",
    "\r\n",
    "geo_shape"
   ],
   "outputs": [
    {
     "output_type": "execute_result",
     "data": {
      "text/html": [
       "<div>\n",
       "<style scoped>\n",
       "    .dataframe tbody tr th:only-of-type {\n",
       "        vertical-align: middle;\n",
       "    }\n",
       "\n",
       "    .dataframe tbody tr th {\n",
       "        vertical-align: top;\n",
       "    }\n",
       "\n",
       "    .dataframe thead th {\n",
       "        text-align: right;\n",
       "    }\n",
       "</style>\n",
       "<table border=\"1\" class=\"dataframe\">\n",
       "  <thead>\n",
       "    <tr style=\"text-align: right;\">\n",
       "      <th></th>\n",
       "      <th>type</th>\n",
       "      <th>coordinates</th>\n",
       "    </tr>\n",
       "    <tr>\n",
       "      <th>Code INSEE</th>\n",
       "      <th></th>\n",
       "      <th></th>\n",
       "    </tr>\n",
       "  </thead>\n",
       "  <tbody>\n",
       "    <tr>\n",
       "      <th>01001</th>\n",
       "      <td>Polygon</td>\n",
       "      <td>[[[4.92627342692396, 46.1200517234555], [4.921...</td>\n",
       "    </tr>\n",
       "    <tr>\n",
       "      <th>01002</th>\n",
       "      <td>Polygon</td>\n",
       "      <td>[[[5.430089291292173, 45.98275997279625], [5.4...</td>\n",
       "    </tr>\n",
       "    <tr>\n",
       "      <th>01004</th>\n",
       "      <td>Polygon</td>\n",
       "      <td>[[[5.386190824025674, 45.930927620632], [5.374...</td>\n",
       "    </tr>\n",
       "    <tr>\n",
       "      <th>01005</th>\n",
       "      <td>Polygon</td>\n",
       "      <td>[[[4.895580369408855, 45.97991618124606], [4.8...</td>\n",
       "    </tr>\n",
       "    <tr>\n",
       "      <th>01006</th>\n",
       "      <td>Polygon</td>\n",
       "      <td>[[[5.614854625053272, 45.734638855121595], [5....</td>\n",
       "    </tr>\n",
       "    <tr>\n",
       "      <th>01007</th>\n",
       "      <td>Polygon</td>\n",
       "      <td>[[[5.413533405897647, 45.97889779714948], [5.3...</td>\n",
       "    </tr>\n",
       "    <tr>\n",
       "      <th>01008</th>\n",
       "      <td>Polygon</td>\n",
       "      <td>[[[5.321986043355919, 45.92234494663176], [5.3...</td>\n",
       "    </tr>\n",
       "    <tr>\n",
       "      <th>01009</th>\n",
       "      <td>Polygon</td>\n",
       "      <td>[[[5.65639346945457, 45.76021095279123], [5.64...</td>\n",
       "    </tr>\n",
       "    <tr>\n",
       "      <th>...</th>\n",
       "      <td>...</td>\n",
       "      <td>...</td>\n",
       "    </tr>\n",
       "    <tr>\n",
       "      <th>97610</th>\n",
       "      <td>Polygon</td>\n",
       "      <td>[[[45.236928684088014, -12.754058747996272], [...</td>\n",
       "    </tr>\n",
       "    <tr>\n",
       "      <th>97611</th>\n",
       "      <td>Polygon</td>\n",
       "      <td>[[[45.19781930364615, -12.822219462089672], [4...</td>\n",
       "    </tr>\n",
       "    <tr>\n",
       "      <th>97612</th>\n",
       "      <td>MultiPolygon</td>\n",
       "      <td>[[[[45.04170658709794, -12.64848605150059], [4...</td>\n",
       "    </tr>\n",
       "    <tr>\n",
       "      <th>97613</th>\n",
       "      <td>Polygon</td>\n",
       "      <td>[[[45.10168867076047, -12.777593498693376], [4...</td>\n",
       "    </tr>\n",
       "    <tr>\n",
       "      <th>97614</th>\n",
       "      <td>Polygon</td>\n",
       "      <td>[[[45.15401500566175, -12.874009694547194], [4...</td>\n",
       "    </tr>\n",
       "    <tr>\n",
       "      <th>97615</th>\n",
       "      <td>Polygon</td>\n",
       "      <td>[[[45.2964579398932, -12.784065899615937], [45...</td>\n",
       "    </tr>\n",
       "    <tr>\n",
       "      <th>97616</th>\n",
       "      <td>Polygon</td>\n",
       "      <td>[[[45.13226166584437, -12.888896942507678], [4...</td>\n",
       "    </tr>\n",
       "    <tr>\n",
       "      <th>97617</th>\n",
       "      <td>Polygon</td>\n",
       "      <td>[[[45.15256258560858, -12.803983108561635], [4...</td>\n",
       "    </tr>\n",
       "  </tbody>\n",
       "</table>\n",
       "<p>36742 rows × 2 columns</p>\n",
       "</div>"
      ],
      "text/plain": [
       "                    type                                        coordinates\n",
       "Code INSEE                                                                 \n",
       "01001            Polygon  [[[4.92627342692396, 46.1200517234555], [4.921...\n",
       "01002            Polygon  [[[5.430089291292173, 45.98275997279625], [5.4...\n",
       "01004            Polygon  [[[5.386190824025674, 45.930927620632], [5.374...\n",
       "01005            Polygon  [[[4.895580369408855, 45.97991618124606], [4.8...\n",
       "01006            Polygon  [[[5.614854625053272, 45.734638855121595], [5....\n",
       "01007            Polygon  [[[5.413533405897647, 45.97889779714948], [5.3...\n",
       "01008            Polygon  [[[5.321986043355919, 45.92234494663176], [5.3...\n",
       "01009            Polygon  [[[5.65639346945457, 45.76021095279123], [5.64...\n",
       "...                  ...                                                ...\n",
       "97610            Polygon  [[[45.236928684088014, -12.754058747996272], [...\n",
       "97611            Polygon  [[[45.19781930364615, -12.822219462089672], [4...\n",
       "97612       MultiPolygon  [[[[45.04170658709794, -12.64848605150059], [4...\n",
       "97613            Polygon  [[[45.10168867076047, -12.777593498693376], [4...\n",
       "97614            Polygon  [[[45.15401500566175, -12.874009694547194], [4...\n",
       "97615            Polygon  [[[45.2964579398932, -12.784065899615937], [45...\n",
       "97616            Polygon  [[[45.13226166584437, -12.888896942507678], [4...\n",
       "97617            Polygon  [[[45.15256258560858, -12.803983108561635], [4...\n",
       "\n",
       "[36742 rows x 2 columns]"
      ]
     },
     "metadata": {},
     "execution_count": 22
    }
   ],
   "metadata": {}
  },
  {
   "cell_type": "markdown",
   "source": [],
   "metadata": {}
  },
  {
   "cell_type": "code",
   "execution_count": 24,
   "source": [
    "# Donner le décompte des valeurs accédées avec la clé \"type\".\r\n",
    "geo_shape['type'].nunique()"
   ],
   "outputs": [
    {
     "output_type": "execute_result",
     "data": {
      "text/plain": [
       "2"
      ]
     },
     "metadata": {},
     "execution_count": 24
    }
   ],
   "metadata": {}
  },
  {
   "cell_type": "code",
   "execution_count": 27,
   "source": [
    "# Donner le décompte des longueurs des listes accédées avec la clé \"coordinates\".\r\n",
    "geo_shape['coordinates'].str.len().unique()"
   ],
   "outputs": [
    {
     "output_type": "execute_result",
     "data": {
      "text/plain": [
       "array([1, 2, 3, 4], dtype=int64)"
      ]
     },
     "metadata": {},
     "execution_count": 27
    }
   ],
   "metadata": {}
  },
  {
   "cell_type": "code",
   "execution_count": 47,
   "source": [
    "# Quelle commune est la plus complexe géométriquement ?\r\n",
    "geo.loc[geo_shape['coordinates'].str.len().idxmax()]"
   ],
   "outputs": [
    {
     "output_type": "execute_result",
     "data": {
      "text/plain": [
       "Code Postal                                                     83400\n",
       "Commune                                                        HYERES\n",
       "Département                                                       VAR\n",
       "Région                                     PROVENCE-ALPES-COTE D'AZUR\n",
       "Statut                                               Chef-lieu canton\n",
       "Altitude Moyenne                                                 60.0\n",
       "Superficie                                                    13356.0\n",
       "Population                                                       54.7\n",
       "geo_point_2d                             43.1018713534, 6.18898508469\n",
       "geo_shape           {\"type\": \"MultiPolygon\", \"coordinates\": [[[[6....\n",
       "Latitude                                                    43.101871\n",
       "Longitude                                                    6.188985\n",
       "CP Ville                                                 83400 HYERES\n",
       "Name: 83069, dtype: object"
      ]
     },
     "metadata": {},
     "execution_count": 47
    }
   ],
   "metadata": {}
  },
  {
   "cell_type": "code",
   "execution_count": 48,
   "source": [
    "# Quelle commune est la seconde la plus complexe géométriquement ?\r\n",
    "geo.loc[geo_shape['coordinates'].drop(geo_shape['coordinates'].str.len().idxmax()).str.len().idxmax()]"
   ],
   "outputs": [
    {
     "output_type": "execute_result",
     "data": {
      "text/plain": [
       "Code Postal                                                     27100\n",
       "Commune                                                  VAL-DE-REUIL\n",
       "Département                                                      EURE\n",
       "Région                                                HAUTE-NORMANDIE\n",
       "Statut                                               Chef-lieu canton\n",
       "Altitude Moyenne                                                 23.0\n",
       "Superficie                                                     2593.0\n",
       "Population                                                       13.5\n",
       "geo_point_2d                              49.261335704, 1.21147195365\n",
       "geo_shape           {\"type\": \"MultiPolygon\", \"coordinates\": [[[[1....\n",
       "Latitude                                                    49.261336\n",
       "Longitude                                                    1.211472\n",
       "CP Ville                                           27100 VAL-DE-REUIL\n",
       "Name: 27701, dtype: object"
      ]
     },
     "metadata": {},
     "execution_count": 48
    }
   ],
   "metadata": {}
  },
  {
   "cell_type": "code",
   "execution_count": 54,
   "source": [
    "# Quelles sont les villes qui sont de type \"Polygon\" mais dont la longueur des listes accédées avec la clé \"coordinates\" vaut 2 ?\r\n",
    "geo.loc[(geo_shape['type'] == 'Polygon') & (geo_shape['coordinates'].str.len() == 2), 'Commune']\r\n"
   ],
   "outputs": [
    {
     "output_type": "execute_result",
     "data": {
      "text/plain": [
       "Code INSEE\n",
       "02232               COYOLLES\n",
       "05052               EYGLIERS\n",
       "09042    LA BASTIDE-DE-SEROU\n",
       "22209              PLOUBALAY\n",
       "2A272                SARTENE\n",
       "2B049              CALENZANA\n",
       "48080               LANGOGNE\n",
       "67486              SUNDHOUSE\n",
       "68078              EGUISHEIM\n",
       "71028            BEAUVERNOIS\n",
       "Name: Commune, dtype: object"
      ]
     },
     "metadata": {},
     "execution_count": 54
    }
   ],
   "metadata": {}
  },
  {
   "cell_type": "code",
   "execution_count": null,
   "source": [],
   "outputs": [],
   "metadata": {}
  }
 ],
 "metadata": {
  "anaconda-cloud": {},
  "kernelspec": {
   "name": "python3",
   "display_name": "Python 3.8.8 64-bit ('base': conda)"
  },
  "language_info": {
   "codemirror_mode": {
    "name": "ipython",
    "version": 3
   },
   "file_extension": ".py",
   "mimetype": "text/x-python",
   "name": "python",
   "nbconvert_exporter": "python",
   "pygments_lexer": "ipython3",
   "version": "3.8.8"
  },
  "interpreter": {
   "hash": "b3ba2566441a7c06988d0923437866b63cedc61552a5af99d1f4fb67d367b25f"
  }
 },
 "nbformat": 4,
 "nbformat_minor": 1
}