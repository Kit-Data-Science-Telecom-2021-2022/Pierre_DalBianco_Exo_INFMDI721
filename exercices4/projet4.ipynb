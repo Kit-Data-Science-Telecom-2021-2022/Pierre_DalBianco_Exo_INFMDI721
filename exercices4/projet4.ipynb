{
 "cells": [
  {
   "cell_type": "markdown",
   "source": [
    "# Projet 4"
   ],
   "metadata": {}
  },
  {
   "cell_type": "code",
   "execution_count": 1,
   "source": [
    "import requests\r\n",
    "from bs4 import BeautifulSoup\r\n",
    "import re"
   ],
   "outputs": [],
   "metadata": {}
  },
  {
   "cell_type": "markdown",
   "source": [
    "Ecrire une fonction `get_prices_from_url()` qui extrait des informations à partir des 2 pages ci-dessous.\n",
    "\n",
    "Exemple `URL_PAGE2` doit retourner :\n",
    "\n",
    "<pre>{'Personal': {'price': '$5', 'storage': '1GB', 'databases': 1},\n",
    "  'Small Business': {'price': '$25', 'storage': '10GB', 'databases': 5},\n",
    "  'Enterprise': {'price': '$45', 'storage': '100GB', 'databases': 25}}\n",
    "</pre>"
   ],
   "metadata": {}
  },
  {
   "cell_type": "code",
   "execution_count": 2,
   "source": [
    "URL_PAGE2 = \"https://kim.fspot.org/cours/page2.html\"\r\n",
    "URL_PAGE3 = \"https://kim.fspot.org/cours/page3.html\"\r\n",
    "\r\n",
    "# We create a custom Exception class to return an exception in case of a bad status code returned by the website\r\n",
    "class BadStatusCode(Exception):\r\n",
    "     def __init__(self, code):\r\n",
    "         super().__init__('Unable to connect, received status code: {}'.format(code))\r\n",
    "\r\n",
    "def get_prices_from_url(url):\r\n",
    "    # we request the url\r\n",
    "    r = requests.get(url)\r\n",
    "\r\n",
    "    # we raise an Exception if the status code is not 200\r\n",
    "    if r.status_code != 200:\r\n",
    "        raise BadStatusCode(r.status_code)\r\n",
    "    \r\n",
    "    # we get our soup from the downloaded content\r\n",
    "    soup = BeautifulSoup(r.content)\r\n",
    "\r\n",
    "    prices = {}\r\n",
    "\r\n",
    "    for div_tag in soup.findAll('div', attrs={'class': 'pricing-table'}):\r\n",
    "        price = {}\r\n",
    "        # title\r\n",
    "        price_title = div_tag.find('div', {'class':'pricing-table-header'}).find('h2').text\r\n",
    "        # price\r\n",
    "        price['price'] = re.search('(\\$[0-9]+)', div_tag.find('span', {'class':'pricing-table-price'}).text.strip()).group(0)\r\n",
    "\r\n",
    "        ul = div_tag.find('ul', {'class':'pricing-table-list'}).find_all('li')\r\n",
    "        # storage\r\n",
    "        price['storage'] = re.search('([0-9]+[MGTP]?B)', ul[3].text).group(0)\r\n",
    "        # database\r\n",
    "        price['databases'] = int(re.search('([0-9]+)', ul[4].text).group(0))\r\n",
    "\r\n",
    "        # we add this price to the prices dict\r\n",
    "        prices[price_title] = price\r\n",
    "\r\n",
    "    return prices"
   ],
   "outputs": [],
   "metadata": {}
  },
  {
   "cell_type": "code",
   "execution_count": 3,
   "source": [
    "get_prices_from_url(URL_PAGE3)"
   ],
   "outputs": [
    {
     "output_type": "execute_result",
     "data": {
      "text/plain": [
       "{'Personal': {'price': '$5', 'storage': '1GB', 'databases': 1},\n",
       " 'Small Business': {'price': '$25', 'storage': '10GB', 'databases': 5},\n",
       " 'Enterprise': {'price': '$45', 'storage': '100GB', 'databases': 25},\n",
       " 'Privilege': {'price': '$99', 'storage': '1TB', 'databases': 100}}"
      ]
     },
     "metadata": {},
     "execution_count": 3
    }
   ],
   "metadata": {}
  },
  {
   "cell_type": "markdown",
   "source": [
    "Ecrire une fonction qui extrait des informations sur une bière de beowulf.\r\n",
    "\r\n",
    "Exemple d'URL: https://www.beerwulf.com/fr-fr/p/bieres/melusine-bio.33 \r\n",
    "\r\n",
    "La fonction doit retourner :\r\n",
    "<pre>\r\n",
    "{'name': 'Mélusine Bio', 'note': 70, 'price': 38.99, 'volume': 33}\r\n",
    "</pre>"
   ],
   "metadata": {}
  },
  {
   "cell_type": "code",
   "execution_count": 4,
   "source": [
    "def extract_beer_infos(url):\r\n",
    "    # we request the url\r\n",
    "    r = requests.get(url)\r\n",
    "\r\n",
    "    # we raise an Exception if the status code is not 200\r\n",
    "    if r.status_code != 200:\r\n",
    "        raise BadStatusCode(r.status_code)\r\n",
    "    \r\n",
    "    # we get our soup from the downloaded content\r\n",
    "    soup = BeautifulSoup(r.content)\r\n",
    "    \r\n",
    "    infos = {\r\n",
    "        'name': soup.find('div', {'class': 'product-detail-info-title'}).find('h1').text,\r\n",
    "        'note': int(soup.find('div', {'class': 'stars'}).attrs['data-percent']),\r\n",
    "        'price': float(soup.find('span', {'class': 'price'}).text[:-2].replace(',', '.')),\r\n",
    "        'volume': int(soup.find('dd', {'class': 'js-beer-volume'}).attrs['data-volume'][:-3]),\r\n",
    "    }\r\n",
    "    return infos"
   ],
   "outputs": [],
   "metadata": {}
  },
  {
   "cell_type": "code",
   "execution_count": 5,
   "source": [
    "extract_beer_infos('https://www.beerwulf.com/fr-fr/p/bieres/melusine-bio.33')"
   ],
   "outputs": [
    {
     "output_type": "execute_result",
     "data": {
      "text/plain": [
       "{'name': 'Mélusine Bio', 'note': 70, 'price': 38.99, 'volume': 33}"
      ]
     },
     "metadata": {},
     "execution_count": 5
    }
   ],
   "metadata": {}
  },
  {
   "cell_type": "markdown",
   "source": [
    "Cette URL retourne un JSON avec une liste de bières :"
   ],
   "metadata": {}
  },
  {
   "cell_type": "code",
   "execution_count": 6,
   "source": [
    "URL_BEERLIST_FRANCE = \"https://www.beerwulf.com/fr-FR/api/search/searchProducts?country=France&container=Bouteille\""
   ],
   "outputs": [],
   "metadata": {}
  },
  {
   "cell_type": "markdown",
   "source": [
    "Ecrire une fonction qui prend l'argument cet URL retourne les informations sur une liste de bière via l'API de beowulf.\n",
    "\n",
    "Cette fonction doit retourner la liste des informations obtenues par la fonction `extract_beer_infos()` définie ci-dessus.\n",
    "\n",
    "Chercher comment optimiser cette fonction en utilisant multiprocessing.Pool pour paralléliser les accès web.\n",
    "\n",
    "Exemple de retour :\n",
    "\n",
    "<pre>[{'name': 'Gallia East IPA', 'note': 80, 'price': 42.99, 'volume': 33},\n",
    "    {'name': 'La Lager Sans Gluten de Vézelay', 'note': 60, 'price': 38.99, 'volume': 25},\n",
    "    {'name': 'Brasserie De Sutter Brin de Folie', 'note': 70, 'price': 44.99, 'volume': 33},\n",
    "    {'name': 'La Cristal IPA du Mont Blanc', 'note': 70, 'price': 44.99, 'volume': 33},\n",
    "    {'name': 'Mélusine Bio', 'note': 70, 'price': 38.99, 'volume': 33},\n",
    "    {'name': 'La Parisienne Le Titi Parisien', 'note': 70, 'price': 38.99, 'volume': 33},\n",
    "    {'name': 'Gallia Session IPA', 'note': 70, 'price': 42.99, 'volume': 33},\n",
    "    {'name': 'Ninkasi Brut IPA', 'note': 70, 'price': 44.99, 'volume': 33},\n",
    "    {'name': 'Pietra', 'note': 60, 'price': 38.99, 'volume': 33},\n",
    "    {'name': 'Desperados', 'note': 60, 'price': 35.99, 'volume': 33},\n",
    "    {'name': 'Gallia West IPA', 'note': 70, 'price': 42.99, 'volume': 33}]\n",
    "</pre>"
   ],
   "metadata": {}
  },
  {
   "cell_type": "code",
   "execution_count": 7,
   "source": [
    "def extract_beer_list_infos(url):\r\n",
    "    # Collecter les pages de bières à partir du JSON\r\n",
    "    # we request the url\r\n",
    "    r = requests.get(url)\r\n",
    "\r\n",
    "    # we raise an Exception if the status code is not 200\r\n",
    "    if r.status_code != 200:\r\n",
    "        raise BadStatusCode(r.status_code)\r\n",
    "    \r\n",
    "    # we read our json data\r\n",
    "    data = r.json()\r\n",
    "    base_url = 'https://www.beerwulf.com'\r\n",
    "\r\n",
    "    # Sequential version (slow):\r\n",
    "    beers = [extract_beer_infos(base_url+item['contentReference']) for item in data['items']]\r\n",
    "\r\n",
    "    # Parallel version (faster):\r\n",
    "    # beers = []\r\n",
    "    \r\n",
    "    return beers"
   ],
   "outputs": [],
   "metadata": {}
  },
  {
   "cell_type": "code",
   "execution_count": 8,
   "source": [
    "from multiprocessing import Pool\r\n",
    "\r\n",
    "def extract_beer_list_infos_parallele(url):\r\n",
    "    # Collecter les pages de bières à partir du JSON\r\n",
    "    # we request the url\r\n",
    "    r = requests.get(url)\r\n",
    "\r\n",
    "    # we raise an Exception if the status code is not 200\r\n",
    "    if r.status_code != 200:\r\n",
    "        raise BadStatusCode(r.status_code)\r\n",
    "    \r\n",
    "    # we read our json data\r\n",
    "    data = r.json()\r\n",
    "    base_url = 'https://www.beerwulf.com'\r\n",
    "\r\n",
    "    # Parallel version (faster):\r\n",
    "    # We prepare a list of url to map\r\n",
    "    beers_urls = [base_url+item['contentReference'] for item in data['items']]\r\n",
    "    # we create a pool to process this in parallele\r\n",
    "    with Pool(3) as p:\r\n",
    "        beers = p.map(extract_beer_infos, beers_urls)\r\n",
    "    \r\n",
    "    return beers"
   ],
   "outputs": [],
   "metadata": {}
  },
  {
   "cell_type": "code",
   "execution_count": 9,
   "source": [
    "# for some reason, this creates an infinit loop in Jupyter\r\n",
    "#if __name__ == '__main__':\r\n",
    "#    extract_beer_list_infos_parallele(URL_BEERLIST_FRANCE)"
   ],
   "outputs": [],
   "metadata": {}
  },
  {
   "cell_type": "code",
   "execution_count": 10,
   "source": [
    "import unittest\r\n",
    "\r\n",
    "class Lesson4Tests(unittest.TestCase):\r\n",
    "    def test_01_get_prices_from_url_page2(self):\r\n",
    "        prices = get_prices_from_url(URL_PAGE2)\r\n",
    "        # We should have found 3 products:\r\n",
    "        self.assertIsInstance(prices, dict)\r\n",
    "        self.assertEqual(len(prices), 3)\r\n",
    "        self.assertIn('Personal', prices)\r\n",
    "        self.assertIn('Small Business', prices)\r\n",
    "        self.assertIn('Enterprise', prices)\r\n",
    "        \r\n",
    "        personal = prices['Personal']\r\n",
    "        self.assertIn('price', personal)\r\n",
    "        self.assertIn('storage', personal)\r\n",
    "        self.assertIn('databases', personal)\r\n",
    "        self.assertEqual(personal['price'], '$5')\r\n",
    "        self.assertEqual(personal['storage'], '1GB')\r\n",
    "        self.assertEqual(personal['databases'], 1)\r\n",
    "        \r\n",
    "    def test_02_get_prices_from_url_page3(self):\r\n",
    "        prices = get_prices_from_url(URL_PAGE3)\r\n",
    "        self.assertIsInstance(prices, dict)\r\n",
    "        self.assertEqual(len(prices), 4)\r\n",
    "        self.assertEqual(\r\n",
    "            prices['Privilege'],\r\n",
    "            {'databases': 100, 'price': '$99', 'storage': '1TB'}\r\n",
    "        )\r\n",
    "    \r\n",
    "    def test_03_extract_beer_list_infos(self):\r\n",
    "        infos = extract_beer_list_infos(URL_BEERLIST_FRANCE)\r\n",
    "        # We should have 11 French beers:\r\n",
    "        self.assertIsInstance(infos, list)\r\n",
    "        self.assertEqual(len(infos), 11)\r\n",
    "        # All of them are 25cl or 33cl:\r\n",
    "        for beer in infos:\r\n",
    "            self.assertIn(beer['volume'], [25, 33])\r\n",
    "\r\n",
    "            \r\n",
    "def run_tests():\r\n",
    "    test_suite = unittest.makeSuite(Lesson4Tests)\r\n",
    "    runner = unittest.TextTestRunner(verbosity=2)\r\n",
    "    runner.run(test_suite)"
   ],
   "outputs": [],
   "metadata": {}
  },
  {
   "cell_type": "code",
   "execution_count": 11,
   "source": [
    "if __name__ == '__main__':\r\n",
    "    run_tests()"
   ],
   "outputs": [
    {
     "output_type": "stream",
     "name": "stderr",
     "text": [
      "test_01_get_prices_from_url_page2 (__main__.Lesson4Tests) ... ok\n",
      "test_02_get_prices_from_url_page3 (__main__.Lesson4Tests) ... ok\n",
      "test_03_extract_beer_list_infos (__main__.Lesson4Tests) ... ok\n",
      "\n",
      "----------------------------------------------------------------------\n",
      "Ran 3 tests in 3.342s\n",
      "\n",
      "OK\n"
     ]
    }
   ],
   "metadata": {}
  }
 ],
 "metadata": {
  "kernelspec": {
   "name": "python3",
   "display_name": "Python 3.8.8 64-bit ('base': conda)"
  },
  "language_info": {
   "codemirror_mode": {
    "name": "ipython",
    "version": 3
   },
   "file_extension": ".py",
   "mimetype": "text/x-python",
   "name": "python",
   "nbconvert_exporter": "python",
   "pygments_lexer": "ipython3",
   "version": "3.8.8"
  },
  "interpreter": {
   "hash": "b3ba2566441a7c06988d0923437866b63cedc61552a5af99d1f4fb67d367b25f"
  }
 },
 "nbformat": 4,
 "nbformat_minor": 4
}