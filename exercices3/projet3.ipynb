{
 "cells": [
  {
   "cell_type": "markdown",
   "source": [
    "# Projet maison n° 3"
   ],
   "metadata": {}
  },
  {
   "cell_type": "code",
   "execution_count": 1,
   "source": [
    "# imports\r\n",
    "import pandas as pd\r\n",
    "import numpy as np\r\n",
    "import os"
   ],
   "outputs": [],
   "metadata": {}
  },
  {
   "cell_type": "markdown",
   "source": [
    "## 1. US baby names\r\n",
    "\r\n",
    "On va s'intéresser au dataset **National data** de la SSA : https://www.ssa.gov/oact/babynames/limits.html\r\n",
    "\r\n",
    "1. Télécharger le dataset des prénoms US : https://www.ssa.gov/oact/babynames/names.zip\r\n",
    "\r\n",
    "Lire la documentation associée.\r\n",
    "\r\n",
    "2. Implémenter une fonction Python qui produit un unique DataFrame avec tous les fichiers en utilisant pandas (par ex. fonction \"concat\" ou méthode \"append\"), pas de bash :)\r\n",
    "\r\n",
    "Ordre et noms des colonnes : 'year', 'name', 'gender', 'births'\r\n",
    "\r\n",
    "Le DataFrame doit être trié selon l'année croissante puis selon l'ordre défini par les différents fichiers (voir la documentation du dataset)."
   ],
   "metadata": {}
  },
  {
   "cell_type": "code",
   "execution_count": 18,
   "source": [
    "# names us\r\n",
    "# File documentation:\r\n",
    "# Each file is sorted first on sex and then on number of occurrences in descending order\r\n",
    "# When there is a tie on the number of occurrences, names are listed in alphabetical order\r\n",
    "def df_names_us():\r\n",
    "    \r\n",
    "    # Our columns' names\r\n",
    "    dfcolumns=['year', 'name', 'gender', 'births']\r\n",
    "\r\n",
    "    # We create a dict with empty lists to fill in later\r\n",
    "    rawdata = {k:[] for k in dfcolumns}\r\n",
    "\r\n",
    "    for filename in os.listdir('names'): # for each file in the dict\r\n",
    "        if filename.endswith(\".txt\"):   \r\n",
    "            with open('names/'+filename) as file: # read the file\r\n",
    "                for line in file:\r\n",
    "                    # for each line in the file we split it using the separator ','\r\n",
    "                    rawline = (line.rstrip()).split(',')\r\n",
    "\r\n",
    "                    # we append the newly read data to the list\r\n",
    "                    # this method also ensures that we don't change the order in which the data is sorted\r\n",
    "                    rawdata['year'].append(int(filename[3:-4])) # we convert year into an int\r\n",
    "                    rawdata['name'].append(rawline[0])\r\n",
    "                    rawdata['gender'].append(rawline[1])\r\n",
    "                    rawdata['births'].append(int(rawline[2])) # we convert births into an int\r\n",
    "\r\n",
    "    # we create the data frame susing the list that we just generated\r\n",
    "    df =  pd.DataFrame({k:rawdata[k] for k in dfcolumns})\r\n",
    "\r\n",
    "    # if we wanted to sort the values, but they are already sorted properly\r\n",
    "    #df = df.sort_values(by=['year', 'gender', 'births', 'name'], ascending=[True, False, False, True])\r\n",
    "\r\n",
    "    return df"
   ],
   "outputs": [],
   "metadata": {}
  },
  {
   "cell_type": "code",
   "execution_count": 19,
   "source": [
    "names_us = df_names_us()\r\n",
    "names_us"
   ],
   "outputs": [
    {
     "output_type": "execute_result",
     "data": {
      "text/html": [
       "<div>\n",
       "<style scoped>\n",
       "    .dataframe tbody tr th:only-of-type {\n",
       "        vertical-align: middle;\n",
       "    }\n",
       "\n",
       "    .dataframe tbody tr th {\n",
       "        vertical-align: top;\n",
       "    }\n",
       "\n",
       "    .dataframe thead th {\n",
       "        text-align: right;\n",
       "    }\n",
       "</style>\n",
       "<table border=\"1\" class=\"dataframe\">\n",
       "  <thead>\n",
       "    <tr style=\"text-align: right;\">\n",
       "      <th></th>\n",
       "      <th>year</th>\n",
       "      <th>name</th>\n",
       "      <th>gender</th>\n",
       "      <th>births</th>\n",
       "    </tr>\n",
       "  </thead>\n",
       "  <tbody>\n",
       "    <tr>\n",
       "      <th>0</th>\n",
       "      <td>1880</td>\n",
       "      <td>Mary</td>\n",
       "      <td>F</td>\n",
       "      <td>7065</td>\n",
       "    </tr>\n",
       "    <tr>\n",
       "      <th>1</th>\n",
       "      <td>1880</td>\n",
       "      <td>Anna</td>\n",
       "      <td>F</td>\n",
       "      <td>2604</td>\n",
       "    </tr>\n",
       "    <tr>\n",
       "      <th>2</th>\n",
       "      <td>1880</td>\n",
       "      <td>Emma</td>\n",
       "      <td>F</td>\n",
       "      <td>2003</td>\n",
       "    </tr>\n",
       "    <tr>\n",
       "      <th>3</th>\n",
       "      <td>1880</td>\n",
       "      <td>Elizabeth</td>\n",
       "      <td>F</td>\n",
       "      <td>1939</td>\n",
       "    </tr>\n",
       "    <tr>\n",
       "      <th>4</th>\n",
       "      <td>1880</td>\n",
       "      <td>Minnie</td>\n",
       "      <td>F</td>\n",
       "      <td>1746</td>\n",
       "    </tr>\n",
       "    <tr>\n",
       "      <th>...</th>\n",
       "      <td>...</td>\n",
       "      <td>...</td>\n",
       "      <td>...</td>\n",
       "      <td>...</td>\n",
       "    </tr>\n",
       "    <tr>\n",
       "      <th>2020858</th>\n",
       "      <td>2020</td>\n",
       "      <td>Zykell</td>\n",
       "      <td>M</td>\n",
       "      <td>5</td>\n",
       "    </tr>\n",
       "    <tr>\n",
       "      <th>2020859</th>\n",
       "      <td>2020</td>\n",
       "      <td>Zylus</td>\n",
       "      <td>M</td>\n",
       "      <td>5</td>\n",
       "    </tr>\n",
       "    <tr>\n",
       "      <th>2020860</th>\n",
       "      <td>2020</td>\n",
       "      <td>Zymari</td>\n",
       "      <td>M</td>\n",
       "      <td>5</td>\n",
       "    </tr>\n",
       "    <tr>\n",
       "      <th>2020861</th>\n",
       "      <td>2020</td>\n",
       "      <td>Zyn</td>\n",
       "      <td>M</td>\n",
       "      <td>5</td>\n",
       "    </tr>\n",
       "    <tr>\n",
       "      <th>2020862</th>\n",
       "      <td>2020</td>\n",
       "      <td>Zyran</td>\n",
       "      <td>M</td>\n",
       "      <td>5</td>\n",
       "    </tr>\n",
       "  </tbody>\n",
       "</table>\n",
       "<p>2020863 rows × 4 columns</p>\n",
       "</div>"
      ],
      "text/plain": [
       "         year       name gender  births\n",
       "0        1880       Mary      F    7065\n",
       "1        1880       Anna      F    2604\n",
       "2        1880       Emma      F    2003\n",
       "3        1880  Elizabeth      F    1939\n",
       "4        1880     Minnie      F    1746\n",
       "...       ...        ...    ...     ...\n",
       "2020858  2020     Zykell      M       5\n",
       "2020859  2020      Zylus      M       5\n",
       "2020860  2020     Zymari      M       5\n",
       "2020861  2020        Zyn      M       5\n",
       "2020862  2020      Zyran      M       5\n",
       "\n",
       "[2020863 rows x 4 columns]"
      ]
     },
     "metadata": {},
     "execution_count": 19
    }
   ],
   "metadata": {}
  },
  {
   "cell_type": "markdown",
   "source": [
    "## 2. Prénoms français"
   ],
   "metadata": {}
  },
  {
   "cell_type": "markdown",
   "source": [
    "On va s'intéresser au dataset **Fichiers France hors Mayotte** de l'INSEE :  https://www.insee.fr/fr/statistiques/2540004/\n",
    "\n",
    "L'idée est de charger les données et ensuite de les conformer au DataFrame des prénoms US. Ainsi, toute manipulation sur le DataFrame des prénoms US pourra être directement réutilisée avec le DataFrame des prénoms français.\n",
    " \n",
    "1. Télécharger le dataset des prénoms français : https://www.insee.fr/fr/statistiques/fichier/2540004/nat2020_csv.zip\n",
    "\n",
    "\n",
    "Lire la documentation, ça peut être utile...\n",
    " \n",
    "2. Implémenter une fonction Python qui produit un DataFrame avec les prénoms français en prenant le DataFrame des prénoms US comme modèle :\n",
    " \n",
    " - Même ordre et mêmes noms des colonnes : year, name, gender, births\n",
    " - Mêmes dtypes pour les colonnes\n",
    " - Mêmes valeurs pour la colonne 'gender'\n",
    " - Seuls les prénoms de 2 caractères et plus sont conservés\n",
    " - La casse des prénoms doit être identique : initiales en majuscule, autres lettres en minuscule\n",
    " - Les lignes avec des données inutilisables doivent être supprimées\n",
    " - Les données sont triées à l'identique : années (↑), puis gender (↑), puis births (↓) et enfin name (↑)\n",
    " - L'index du DataFrame doit aller de 0 à N-1"
   ],
   "metadata": {}
  },
  {
   "cell_type": "code",
   "execution_count": null,
   "source": [
    "# names fr\r\n",
    "def df_names_fr():\r\n",
    "    df = pd.DataFrame()\r\n",
    "    return df"
   ],
   "outputs": [],
   "metadata": {}
  },
  {
   "cell_type": "markdown",
   "source": [
    "## 3. Taux de change"
   ],
   "metadata": {}
  },
  {
   "cell_type": "markdown",
   "source": [
    "On va s'intéresser au dataset des cours des devises de la Banque de France :  http://webstat.banque-france.fr/fr/#/downloading\n",
    "\n",
    "L'idée est de charger les données, de les nettoyer et de pouvoir accéder aux cours de certaines devises à partir de leur code ISO3.\n",
    " \n",
    "1. Utiliser le dataset des taux de change fourni.\n",
    "\n",
    "\n",
    "2. Implémenter une fonction qui produit un DataFrame avec les taux de change par date pour une liste de codes ISO3 de devises passée en argument. L'index du DataFrame doit correspondre aux dates (voir la fonction pd.to_datetime() avec le format '%d/%m/%Y'). Les colonnes du DataFrame doivent correspondre aux devises."
   ],
   "metadata": {}
  },
  {
   "cell_type": "code",
   "execution_count": null,
   "source": [
    "# taux de change\r\n",
    "def df_taux_change(devises):\r\n",
    "    df = pd.DataFrame([], columns=devises)\r\n",
    "    return df"
   ],
   "outputs": [],
   "metadata": {}
  },
  {
   "cell_type": "markdown",
   "source": [
    "### Tests"
   ],
   "metadata": {}
  },
  {
   "cell_type": "code",
   "execution_count": 32,
   "source": [
    "import unittest\r\n",
    "\r\n",
    "class Lesson4Tests(unittest.TestCase):\r\n",
    "    def test_df_names_us(self):\r\n",
    "        df = df_names_us()\r\n",
    "        # colonnes\r\n",
    "        self.assertEqual(list(df.columns), ['year', 'name', 'gender', 'births'])\r\n",
    "        # lignes\r\n",
    "        self.assertEqual(len(df), 2020863)\r\n",
    "        # index\r\n",
    "        self.assertTrue(isinstance(df.index, pd.core.indexes.range.RangeIndex))\r\n",
    "        # test NaN\r\n",
    "        self.assertTrue(df.loc[df.isnull().any(axis=1)].empty)\r\n",
    "        \r\n",
    "    def test_df_names_fr(self):\r\n",
    "        df = df_names_fr()\r\n",
    "        # colonnes\r\n",
    "        self.assertEqual(list(df.columns), ['year', 'name', 'gender', 'births'])\r\n",
    "        # lignes\r\n",
    "        self.assertEqual(len(df), 630407)\r\n",
    "        # index\r\n",
    "        self.assertTrue(isinstance(df.index, pd.core.indexes.range.RangeIndex))\r\n",
    "        # test names\r\n",
    "        self.assertTrue(df.loc[df['name'].str.contains('^[A-Z]+(?:-[A-Z]+)?$')].empty)\r\n",
    "        # test gender\r\n",
    "        self.assertEqual(len(df), len(df.loc[df['gender']=='F']) + len(df.loc[df['gender']=='M']))\r\n",
    "        # test NaN\r\n",
    "        self.assertTrue(df.loc[df.isnull().any(axis=1)].empty)\r\n",
    "\r\n",
    "    def test_df_taux_change(self):\r\n",
    "        df = df_taux_change(['CHF', 'GBP', 'USD'])\r\n",
    "        # colonnes\r\n",
    "        self.assertEqual(list(df.columns), ['CHF', 'GBP', 'USD'])\r\n",
    "        # index\r\n",
    "        self.assertTrue(isinstance(df.index, pd.core.indexes.datetimes.DatetimeIndex))\r\n",
    "        # types taux\r\n",
    "        self.assertTrue((df.dtypes == 'float').all())\r\n",
    "        # test NaN\r\n",
    "        self.assertTrue(df.loc[df.isnull().any(axis=1)].empty)\r\n"
   ],
   "outputs": [],
   "metadata": {}
  },
  {
   "cell_type": "code",
   "execution_count": 33,
   "source": [
    "# run tests\r\n",
    "def run_tests():\r\n",
    "    test_suite = unittest.makeSuite(Lesson4Tests)\r\n",
    "    runner = unittest.TextTestRunner(verbosity=2)\r\n",
    "    runner.run(test_suite)"
   ],
   "outputs": [],
   "metadata": {}
  },
  {
   "cell_type": "code",
   "execution_count": 49,
   "source": [
    "# run tests\r\n",
    "run_tests()"
   ],
   "outputs": [
    {
     "output_type": "stream",
     "name": "stderr",
     "text": [
      "test_df_names_fr (__main__.Lesson4Tests) ... ERROR\n",
      "test_df_names_us (__main__.Lesson4Tests) ... ok\n",
      "test_df_taux_change (__main__.Lesson4Tests) ... ERROR\n",
      "\n",
      "======================================================================\n",
      "ERROR: test_df_names_fr (__main__.Lesson4Tests)\n",
      "----------------------------------------------------------------------\n",
      "Traceback (most recent call last):\n",
      "  File \"C:\\Users\\Pierre\\AppData\\Local\\Temp/ipykernel_9412/3002108176.py\", line 16, in test_df_names_fr\n",
      "    df = df_names_fr()\n",
      "NameError: name 'df_names_fr' is not defined\n",
      "\n",
      "======================================================================\n",
      "ERROR: test_df_taux_change (__main__.Lesson4Tests)\n",
      "----------------------------------------------------------------------\n",
      "Traceback (most recent call last):\n",
      "  File \"C:\\Users\\Pierre\\AppData\\Local\\Temp/ipykernel_9412/3002108176.py\", line 31, in test_df_taux_change\n",
      "    df = df_taux_change(['CHF', 'GBP', 'USD'])\n",
      "NameError: name 'df_taux_change' is not defined\n",
      "\n",
      "----------------------------------------------------------------------\n",
      "Ran 3 tests in 2.869s\n",
      "\n",
      "FAILED (errors=2)\n"
     ]
    }
   ],
   "metadata": {}
  },
  {
   "cell_type": "code",
   "execution_count": null,
   "source": [],
   "outputs": [],
   "metadata": {}
  }
 ],
 "metadata": {
  "kernelspec": {
   "name": "python3",
   "display_name": "Python 3.8.8 64-bit ('base': conda)"
  },
  "language_info": {
   "codemirror_mode": {
    "name": "ipython",
    "version": 3
   },
   "file_extension": ".py",
   "mimetype": "text/x-python",
   "name": "python",
   "nbconvert_exporter": "python",
   "pygments_lexer": "ipython3",
   "version": "3.8.8"
  },
  "interpreter": {
   "hash": "b3ba2566441a7c06988d0923437866b63cedc61552a5af99d1f4fb67d367b25f"
  }
 },
 "nbformat": 4,
 "nbformat_minor": 4
}